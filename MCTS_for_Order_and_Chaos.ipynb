{
  "cells": [
    {
      "cell_type": "markdown",
      "metadata": {
        "id": "B9NREClWeviy"
      },
      "source": [
        "# MCS Algorithms for Order and Chaos Game"
      ]
    },
    {
      "cell_type": "markdown",
      "metadata": {
        "id": "4NHSKeLEevi5"
      },
      "source": [
        "### Useful Links\n",
        "- [Order and Chaos - Wikipedia](https://en.wikipedia.org/wiki/Order_and_Chaos)\n",
        "- [Order and Chaos - Game simulator](https://ludii.games/details.php?keyword=Order%20and%20Chaos)"
      ]
    },
    {
      "cell_type": "markdown",
      "metadata": {
        "id": "IyZncoLlevi6"
      },
      "source": [
        "**Abstract :** For this project we interested about Order and Chaos game who is very challenging because of is rules. Like in tic-tac-toe players allowed between to state O or X. His particularity come from the fact that both players allowed to play O and X, so the main objective for player 1 and player 2 are different. The first want to make a winning line of 5 successivly same symbole and the other want to make a draw. For this game we tried differente Monte carlo tree search algorithms :\n",
        "- UCB ?? for ..\n",
        "- RAVE ?? because ..\n",
        "- ETC.. TO DO"
      ]
    },
    {
      "cell_type": "markdown",
      "metadata": {
        "id": "q9gEtB8Uevi7"
      },
      "source": [
        "## Import"
      ]
    },
    {
      "cell_type": "code",
      "execution_count": 1,
      "metadata": {
        "id": "3kkD4Dhaevi9"
      },
      "outputs": [],
      "source": [
        "import numpy as np\n",
        "import numpy.random as random\n",
        "from copy import deepcopy\n",
        "import math\n",
        "from collections import defaultdict\n",
        "import matplotlib.pyplot as plt\n",
        "import time"
      ]
    },
    {
      "cell_type": "markdown",
      "metadata": {
        "id": "IZ-exdxZevjC"
      },
      "source": [
        "## Constant inputs"
      ]
    },
    {
      "cell_type": "code",
      "execution_count": 2,
      "metadata": {
        "id": "P62jG0fHevjD"
      },
      "outputs": [],
      "source": [
        "Dx = 6\n",
        "Dy = 6\n",
        "Empty = '-'\n",
        "# Create the Zobrist hashing table\n",
        "HashTable = [[ np.random.randint(0, 2**15, Dy).tolist() for _ in range(Dx)] for _ in range(2)]\n",
        "HashTurn = np.random.randint(0, 2**15)"
      ]
    },
    {
      "cell_type": "markdown",
      "metadata": {
        "id": "tTgRim9GevjE"
      },
      "source": [
        "## Define the Game"
      ]
    },
    {
      "cell_type": "markdown",
      "metadata": {
        "id": "__W0xceGevjF"
      },
      "source": [
        "### Move class"
      ]
    },
    {
      "cell_type": "code",
      "execution_count": 3,
      "metadata": {
        "id": "fF_1S59hevjG"
      },
      "outputs": [],
      "source": [
        "class Move(object):\n",
        "    def __init__(self, x, y, symbol):\n",
        "        self.x = x\n",
        "        self.y = y\n",
        "        self.symbol = symbol\n",
        "\n",
        "    def valid (self, board):\n",
        "        # Move in the board\n",
        "        if self.x >= Dx or self.y >= Dy or self.x < 0 or self.y <0:\n",
        "            return False\n",
        "        # Move in a free space\n",
        "        if board.board[self.x][self.y] != Empty:\n",
        "            return False\n",
        "\n",
        "        return True"
      ]
    },
    {
      "cell_type": "markdown",
      "metadata": {
        "id": "MOKGNAEcevjH"
      },
      "source": [
        "### Class Board"
      ]
    },
    {
      "cell_type": "code",
      "execution_count": 4,
      "metadata": {
        "id": "QxJoDgfqevjH"
      },
      "outputs": [],
      "source": [
        "class Board(object):\n",
        "    def __init__(self):\n",
        "        #self.history = {'Order' : [], 'Chaos' : []}\n",
        "        self.turn = 'Order' #Order always start the game\n",
        "        self.board = [[Empty for _ in range(Dx)] for _ in range(Dy)]\n",
        "        self.board = np.array(self.board)\n",
        "        self.nb_moves = 0\n",
        "        self.h = 0\n",
        "\n",
        "    def legalMoves(self):\n",
        "        moves = []\n",
        "        for i in range (0, Dx):\n",
        "            for j in range (0, Dy):\n",
        "                for symb in ['X', 'O']:\n",
        "                    m = Move (i, j, symb)\n",
        "                    if m.valid (self):\n",
        "                        moves.append (m)\n",
        "\n",
        "        return moves\n",
        "\n",
        "    def verif_array(self, array):\n",
        "        if (np.char.count(array, '-').sum() <= 1) and (len(np.unique(array[:5]))==1 or len(np.unique(array[1:]))==1):\n",
        "            return True\n",
        "        else:\n",
        "            return False\n",
        "\n",
        "    def win(self):\n",
        "        # Horizontal win\n",
        "        for row in self.board:\n",
        "            if self.verif_array(row) == True:\n",
        "                return True\n",
        "\n",
        "        # Vertical win\n",
        "        for col in self.board.T:\n",
        "            if self.verif_array(col) == True:\n",
        "                return True\n",
        "\n",
        "        # Diagonal win\n",
        "        for i in [-1, 0, 1]:\n",
        "            diag = np.diagonal(self.board, offset=i)\n",
        "            if (len(diag)==6) and (self.verif_array(diag) == True) or (np.char.count(diag, '-').sum() < 1) and (len(np.unique(diag))==1):\n",
        "                return True\n",
        "\n",
        "            diag_opposite = np.flipud(self.board).diagonal(offset=i)\n",
        "            if (len(diag_opposite)==6) and (self.verif_array(diag_opposite) == True) or (np.char.count(diag_opposite, '-').sum() < 1) and (len(np.unique(diag_opposite))==1):\n",
        "                return True\n",
        "\n",
        "        return False\n",
        "\n",
        "\n",
        "    def draw(self):\n",
        "        if self.nb_moves < Dx*Dy:\n",
        "            return False\n",
        "        if self.nb_moves >= Dx*Dy and not self.win():\n",
        "            return True\n",
        "        return False\n",
        "\n",
        "    def score(self):\n",
        "        if self.draw():\n",
        "            return 0\n",
        "        if self.win():\n",
        "            return 1\n",
        "\n",
        "    def terminal(self):\n",
        "        if not self.win() and not self.draw():\n",
        "            return False\n",
        "        return True\n",
        "\n",
        "    def __repr__(self):\n",
        "        return \"\\n\".join(\" \".join(row) for row in self.board)\n",
        "\n",
        "    def play (self, move:Move):\n",
        "        change_player = {'Order' : 'Chaos', 'Chaos' : 'Order'}\n",
        "        encode_symbol = {'X' : 0, 'O' : 1}\n",
        "        if move.valid(self):\n",
        "            self.board[move.x][move.y] = move.symbol\n",
        "            # Compute hash\n",
        "            self.h = self.h ^ HashTable[ encode_symbol[move.symbol] ][move.x][move.y]\n",
        "            self.h = self.h ^ HashTurn\n",
        "            # Actualise\n",
        "            self.turn = change_player[self.turn]\n",
        "            self.nb_moves += 1\n",
        "\n",
        "    def playout (self):\n",
        "        while (True):\n",
        "            moves = self.legalMoves()\n",
        "            if self.terminal():\n",
        "                return self.score()\n",
        "            n = random.randint(0, len (moves) - 1)\n",
        "            self.play(moves [n])"
      ]
    },
    {
      "cell_type": "markdown",
      "metadata": {
        "id": "MyPoBWg8evjI"
      },
      "source": [
        "## Test the game"
      ]
    },
    {
      "cell_type": "markdown",
      "metadata": {
        "id": "j7mNttBWevjJ"
      },
      "source": [
        "### Manually"
      ]
    },
    {
      "cell_type": "code",
      "execution_count": 5,
      "metadata": {
        "colab": {
          "base_uri": "https://localhost:8080/"
        },
        "id": "L3ksi99FevjJ",
        "outputId": "a544870d-630f-47ce-e415-612fa1c3a854"
      },
      "outputs": [
        {
          "name": "stdout",
          "output_type": "stream",
          "text": [
            "X - - - - -\n",
            "- X - - - -\n",
            "- - O - - -\n",
            "- - - X - -\n",
            "- - - - X -\n",
            "- - - - - -\n",
            "Win: False\n",
            "Draw: False\n",
            "End: False\n",
            "X - - - - -\n",
            "- X - - - -\n",
            "O O O O O -\n",
            "- - - X - -\n",
            "- - - - X -\n",
            "- - - - - -\n",
            "Win: True\n",
            "Draw: False\n",
            "End: True\n"
          ]
        }
      ],
      "source": [
        "game = Board()\n",
        "game.play(Move(0, 0, 'X'))\n",
        "game.play(Move(1, 1, 'X'))\n",
        "game.play(Move(2, 2, 'O'))\n",
        "game.play(Move(3, 3, 'X'))\n",
        "game.play(Move(4, 4, 'X'))\n",
        "print(game)\n",
        "print(\"Win:\", game.win())\n",
        "print(\"Draw:\", game.draw())\n",
        "print(\"End:\", game.terminal())\n",
        "game.play(Move(2, 0, 'O'))\n",
        "game.play(Move(2, 1, 'O'))\n",
        "game.play(Move(2, 3, 'O'))\n",
        "game.play(Move(2, 4, 'O'))\n",
        "print(game)\n",
        "print(\"Win:\", game.win())\n",
        "print(\"Draw:\", game.draw())\n",
        "print(\"End:\", game.terminal())"
      ]
    },
    {
      "cell_type": "markdown",
      "metadata": {
        "id": "vgnunEGvevjL"
      },
      "source": [
        "### Playout"
      ]
    },
    {
      "cell_type": "code",
      "execution_count": 6,
      "metadata": {
        "colab": {
          "base_uri": "https://localhost:8080/"
        },
        "id": "bbaik9BwevjM",
        "outputId": "2b119425-4cca-4c05-f613-b84dd15bd0e8"
      },
      "outputs": [
        {
          "name": "stdout",
          "output_type": "stream",
          "text": [
            "X - - - O X\n",
            "X - O O X -\n",
            "- O O O O O\n",
            "- O - - - -\n",
            "- - - X O O\n",
            "O - O - X X\n",
            "Win: True\n",
            "Draw: False\n",
            "End: True\n"
          ]
        }
      ],
      "source": [
        "game = Board()\n",
        "game.playout()\n",
        "print(game)\n",
        "print(\"Win:\", game.win())\n",
        "print(\"Draw:\", game.draw())\n",
        "print(\"End:\", game.terminal())"
      ]
    },
    {
      "cell_type": "markdown",
      "metadata": {
        "id": "oKZLg5y9evjM"
      },
      "source": [
        "### Win rate after 1000 playout"
      ]
    },
    {
      "cell_type": "code",
      "execution_count": 7,
      "metadata": {
        "colab": {
          "base_uri": "https://localhost:8080/"
        },
        "id": "ZV9lnhubevjN",
        "outputId": "b5c6e587-29c8-4ead-c397-f0d9b548e80c"
      },
      "outputs": [
        {
          "name": "stdout",
          "output_type": "stream",
          "text": [
            "Win rate after 1000 playout: 0.8310\n"
          ]
        }
      ],
      "source": [
        "wins = []\n",
        "for _ in range(1000):\n",
        "    game = Board()\n",
        "    score = game.playout()\n",
        "    wins.append(score)\n",
        "\n",
        "print(f\"Win rate after 1000 playout: {sum(wins)/1000:.4f}\")"
      ]
    },
    {
      "cell_type": "markdown",
      "metadata": {
        "id": "_1udoDdCevjN"
      },
      "source": [
        "# Define algorithms"
      ]
    },
    {
      "cell_type": "markdown",
      "metadata": {
        "id": "v0py4bT5evjO"
      },
      "source": [
        "## UCT"
      ]
    },
    {
      "cell_type": "code",
      "execution_count": 8,
      "metadata": {},
      "outputs": [],
      "source": [
        "Table = {}\n",
        "MaxLegalMoves = 2*Dx*Dy\n",
        "def add(board):\n",
        "    nplayouts = [0.0 for x in range (MaxLegalMoves)]\n",
        "    nwins = [0.0 for x in range (MaxLegalMoves)]\n",
        "    Table[board.h] = [0, nplayouts, nwins]\n",
        "\n",
        "def look (board):\n",
        "    return Table.get(board.h, None)\n",
        "\n",
        "def UCT(board:Board, c=1.41):\n",
        "    moves = board.legalMoves()\n",
        "    if board.terminal():\n",
        "        return board.score()\n",
        "    t = look(board)\n",
        "    if t != None:\n",
        "        bestValue = -1\n",
        "        n, p, w  = t\n",
        "        for i, m in enumerate(moves):\n",
        "            p_m = p[i]\n",
        "            w_m = w[i]\n",
        "            if p_m > 0 :\n",
        "                value = np.abs((board.turn == 'Chaos') - (w_m/p_m) ) + c * np.sqrt(np.log(n)/p_m)\n",
        "                if value > bestValue:\n",
        "                    i_best = i\n",
        "                    bestValue = value\n",
        "                    bestMove = m\n",
        "        # Simulation\n",
        "        b = deepcopy(board)\n",
        "        b.play(bestMove)\n",
        "        res = b.playout()\n",
        "        res = np.abs((board.turn == 'Chaos') - res)\n",
        "        t[0] +=1\n",
        "        t[1][i_best] += 1\n",
        "        t[2][i_best] += res\n",
        "        \n",
        "    else:\n",
        "        add(board)\n",
        "        b = deepcopy(board)\n",
        "        rdm_move = random.randint(0, len(moves) - 1)\n",
        "        b.play(moves[rdm_move])\n",
        "        res = b.playout()\n",
        "        res = np.abs((b.turn == 'Chaos') - res)\n",
        "        # Update Table\n",
        "        t = look(board)\n",
        "        t[0] +=1\n",
        "        t[1][rdm_move] += 1\n",
        "        t[2][rdm_move] += res\n",
        "        \n",
        "        return res\n",
        "    \n",
        "def BestMoveUCT(board, iterations=100, T=Table):\n",
        "    T.clear()\n",
        "    for i in range (iterations):\n",
        "        b = deepcopy(board)\n",
        "        UCT(b)\n",
        "    t = look (board)\n",
        "    moves = board.legalMoves()\n",
        "    bestMove = moves[0]\n",
        "    bestValue = t[1][0]\n",
        "    for i in range (1, len(moves)):\n",
        "        if (t[1][i] > bestValue):\n",
        "            bestValue = t[1][i]\n",
        "            bestMove = moves[i]\n",
        "    return bestMove"
      ]
    },
    {
      "cell_type": "markdown",
      "metadata": {
        "id": "LQ-Y6c13muSr"
      },
      "source": [
        "## Enhanced Playout Methods"
      ]
    },
    {
      "cell_type": "code",
      "execution_count": 9,
      "metadata": {
        "id": "uaVJt3Y7mtNC"
      },
      "outputs": [],
      "source": [
        "def heuristic_playout(board):\n",
        "    \"\"\"Heuristic playout that prioritizes winning moves for Order and blocking moves for Chaos\"\"\"\n",
        "    board_copy = deepcopy(board)\n",
        "    while not board_copy.terminal():\n",
        "        winning_move = find_tactical_move(board_copy)\n",
        "        if winning_move:\n",
        "            board_copy.play(winning_move)\n",
        "            continue\n",
        "\n",
        "        moves = board_copy.legalMoves()\n",
        "        if not moves:\n",
        "            break\n",
        "        n = random.randint(0, len(moves) - 1)\n",
        "        board_copy.play(moves[n])\n",
        "\n",
        "    if board_copy.terminal():\n",
        "        return board_copy.score()\n",
        "    else:\n",
        "        return 0"
      ]
    },
    {
      "cell_type": "code",
      "execution_count": 10,
      "metadata": {
        "id": "q3PtaWeKnI39"
      },
      "outputs": [],
      "source": [
        "def find_tactical_move(board):\n",
        "    \"\"\"Trying to find winning move for Order or blocking move for Chaos\"\"\"\n",
        "    moves = board.legalMoves()\n",
        "\n",
        "    if board.turn == 'Order':\n",
        "        for move in moves:\n",
        "            temp_board = deepcopy(board)\n",
        "            temp_board.play(move)\n",
        "            if temp_board.win():\n",
        "                return move\n",
        "\n",
        "    else:\n",
        "        next_board = deepcopy(board)\n",
        "        next_board.turn = 'Order'\n",
        "        order_moves = []\n",
        "        for i in range(Dx):\n",
        "            for j in range(Dy):\n",
        "                if next_board.board[i][j] == Empty:\n",
        "                    for symb in ['X', 'O']:\n",
        "                        order_moves.append(Move(i, j, symb))\n",
        "\n",
        "        threat_positions = []\n",
        "        for move in order_moves:\n",
        "            if move.valid(next_board):\n",
        "                temp_board = deepcopy(next_board)\n",
        "                temp_board.board[move.x][move.y] = move.symbol  #no turn change\n",
        "                if temp_board.win():\n",
        "                    threat_positions.append((move.x, move.y))\n",
        "\n",
        "        if threat_positions:\n",
        "            pos = threat_positions[0]\n",
        "            for move in moves:\n",
        "                if (move.x, move.y) == pos:\n",
        "                    return move\n",
        "\n",
        "    return None"
      ]
    },
    {
      "cell_type": "code",
      "execution_count": 11,
      "metadata": {
        "id": "eeoXCEURnbuT"
      },
      "outputs": [],
      "source": [
        "def pattern_based_playout(board, exploration_rate=0.2):\n",
        "    board_copy = deepcopy(board)\n",
        "\n",
        "    def evaluate_move(board, move):\n",
        "        temp_board = deepcopy(board)\n",
        "        temp_board.play(move)\n",
        "\n",
        "        score = 1\n",
        "\n",
        "        if board.turn == 'Order':\n",
        "            directions = [(1, 0), (0, 1), (1, 1), (1, -1)]\n",
        "            symbol = move.symbol\n",
        "\n",
        "            for dx, dy in directions:\n",
        "                consecutive = 1\n",
        "\n",
        "                for i in range(1, 5):\n",
        "                    nx, ny = move.x + dx*i, move.y + dy*i\n",
        "                    if 0 <= nx < Dx and 0 <= ny < Dy and temp_board.board[nx][ny] == symbol:\n",
        "                        consecutive += 1\n",
        "                    else:\n",
        "                        break\n",
        "\n",
        "                for i in range(1, 5):\n",
        "                    nx, ny = move.x - dx*i, move.y - dy*i\n",
        "                    if 0 <= nx < Dx and 0 <= ny < Dy and temp_board.board[nx][ny] == symbol:\n",
        "                        consecutive += 1\n",
        "                    else:\n",
        "                        break\n",
        "\n",
        "                if consecutive >= 5:\n",
        "                    score += 100\n",
        "                elif consecutive == 4:\n",
        "                    score += 10\n",
        "                elif consecutive == 3:\n",
        "                    score += 5\n",
        "                elif consecutive == 2:\n",
        "                    score += 2\n",
        "\n",
        "        else:\n",
        "            adjacent = [(0,1), (1,0), (1,1), (1,-1), (0,-1), (-1,0), (-1,-1), (-1,1)]\n",
        "            for dx, dy in adjacent:\n",
        "                nx, ny = move.x + dx, move.y + dy\n",
        "                if 0 <= nx < Dx and 0 <= ny < Dy and temp_board.board[nx][ny] != Empty:\n",
        "                    score += 2\n",
        "\n",
        "        return score\n",
        "\n",
        "    while not board_copy.terminal():\n",
        "        moves = board_copy.legalMoves()\n",
        "        if not moves:\n",
        "            break\n",
        "\n",
        "        if random.random() < exploration_rate:\n",
        "            chosen_move = moves[random.randint(0, len(moves) - 1)]\n",
        "        else:\n",
        "            move_scores = []\n",
        "            for move in moves:\n",
        "                score = evaluate_move(board_copy, move)\n",
        "                move_scores.append((move, score))\n",
        "\n",
        "            chosen_move = max(move_scores, key=lambda x: x[1])[0]\n",
        "\n",
        "        board_copy.play(chosen_move)\n",
        "\n",
        "    return board_copy.score() if board_copy.terminal() else 0"
      ]
    },
    {
      "cell_type": "code",
      "execution_count": 12,
      "metadata": {
        "colab": {
          "base_uri": "https://localhost:8080/"
        },
        "id": "DmXWtZJKn4wI",
        "outputId": "3df8371d-7c56-4a17-e6de-42a68338e473"
      },
      "outputs": [
        {
          "name": "stdout",
          "output_type": "stream",
          "text": [
            "Testing improved playout methods:\n",
            "Heuristic playout win rate: 0.8900\n",
            "Pattern-based playout win rate: 1.0000\n"
          ]
        }
      ],
      "source": [
        "print(\"Testing improved playout methods:\")\n",
        "wins_heuristic = []\n",
        "wins_pattern = []\n",
        "\n",
        "for _ in range(100):\n",
        "    game_h = Board()\n",
        "    game_p = Board()\n",
        "\n",
        "    result_h = heuristic_playout(game_h)\n",
        "    result_p = pattern_based_playout(game_p)\n",
        "\n",
        "    wins_heuristic.append(result_h)\n",
        "    wins_pattern.append(result_p)\n",
        "\n",
        "print(f\"Heuristic playout win rate: {sum(wins_heuristic)/len(wins_heuristic):.4f}\")\n",
        "print(f\"Pattern-based playout win rate: {sum(wins_pattern)/len(wins_pattern):.4f}\")"
      ]
    },
    {
      "cell_type": "markdown",
      "metadata": {
        "id": "Lqts2fRPqDfy"
      },
      "source": [
        "## RAVE"
      ]
    },
    {
      "cell_type": "code",
      "execution_count": 13,
      "metadata": {
        "id": "Y7dB7KtjsjWS"
      },
      "outputs": [],
      "source": [
        "class RAVENode:\n",
        "    def __init__(self, board, parent=None, move=None):\n",
        "        self.board = deepcopy(board)\n",
        "        self.parent = parent\n",
        "        self.move = move\n",
        "        self.children = []\n",
        "        self.wins = 0\n",
        "        self.visits = 0\n",
        "        self.untried_moves = board.legalMoves()\n",
        "\n",
        "        self.rave_wins = 0\n",
        "        self.rave_visits = 0\n",
        "\n",
        "    def select_child_rave(self, c=1.41, beta=0.5):\n",
        "        if not self.children:\n",
        "            return None\n",
        "\n",
        "        best_value = -float('inf')\n",
        "        best_child = None\n",
        "\n",
        "        for child in self.children:\n",
        "            if child.visits == 0:\n",
        "                return child\n",
        "\n",
        "            if child.visits > 0 and self.visits > 0:\n",
        "                uct_score = (child.wins / child.visits) + c * math.sqrt(2 * math.log(self.visits) / child.visits)\n",
        "            else:\n",
        "                uct_score = float('inf')\n",
        "\n",
        "            if child.rave_visits > 0:\n",
        "                rave_score = child.rave_wins / child.rave_visits\n",
        "\n",
        "                b = child.rave_visits / (child.visits + child.rave_visits + 4 * beta * beta * child.visits * child.rave_visits)\n",
        "\n",
        "                score = (1 - b) * uct_score + b * rave_score\n",
        "            else:\n",
        "                score = uct_score\n",
        "\n",
        "            if score > best_value:\n",
        "                best_value = score\n",
        "                best_child = child\n",
        "\n",
        "        return best_child\n",
        "\n",
        "    def add_child(self, move):\n",
        "        child_board = deepcopy(self.board)\n",
        "        child_board.play(move)\n",
        "        child = RAVENode(child_board, parent=self, move=move)\n",
        "        self.untried_moves.remove(move)\n",
        "        self.children.append(child)\n",
        "        return child\n",
        "\n",
        "    def update(self, result):\n",
        "        self.visits += 1\n",
        "        self.wins += result\n",
        "\n",
        "    def update_rave(self, result):\n",
        "        self.rave_visits += 1\n",
        "        self.rave_wins += result\n",
        "\n",
        "    def is_fully_expanded(self):\n",
        "        return len(self.untried_moves) == 0\n",
        "\n",
        "    def is_terminal_node(self):\n",
        "        return self.board.terminal()"
      ]
    },
    {
      "cell_type": "code",
      "execution_count": 14,
      "metadata": {
        "id": "1FWl2Hfvts0p"
      },
      "outputs": [],
      "source": [
        "def rave_search(board, iterations=1000, playout_policy=pattern_based_playout):\n",
        "    root = RAVENode(board)\n",
        "\n",
        "    for _ in range(iterations):\n",
        "        node = root\n",
        "        board_state = deepcopy(node.board)\n",
        "        visited_nodes = []\n",
        "        action_playout = {}\n",
        "\n",
        "        while node.is_fully_expanded() and not node.is_terminal_node():\n",
        "            selected = node.select_child_rave()\n",
        "            if selected is None:\n",
        "                break\n",
        "            node = selected\n",
        "            if node.move:\n",
        "                board_state.play(node.move)\n",
        "                visited_nodes.append(node)\n",
        "                action_key = (node.move.x, node.move.y, node.move.symbol)\n",
        "                action_playout[action_key] = node\n",
        "\n",
        "        if not node.is_terminal_node():\n",
        "            if len(node.untried_moves) == 0:\n",
        "                continue\n",
        "\n",
        "            move = node.untried_moves[0]\n",
        "            if len(node.untried_moves) > 1:\n",
        "                idx = random.randint(0, len(node.untried_moves) - 1)\n",
        "                move = node.untried_moves[idx]\n",
        "\n",
        "            board_state.play(move)\n",
        "            node = node.add_child(move)\n",
        "            visited_nodes.append(node)\n",
        "            action_key = (move.x, move.y, move.symbol)\n",
        "            action_playout[action_key] = node\n",
        "\n",
        "        result = playout_policy(board_state)\n",
        "\n",
        "        for visited_node in visited_nodes:\n",
        "            visited_node.update(result)\n",
        "\n",
        "        for visited_node in visited_nodes:\n",
        "            if visited_node.parent:\n",
        "                for sibling in visited_node.parent.children:\n",
        "                    action_key = (sibling.move.x, sibling.move.y, sibling.move.symbol)\n",
        "                    if action_key in action_playout:\n",
        "                        sibling.update_rave(result)\n",
        "\n",
        "    if not root.children:\n",
        "        moves = board.legalMoves()\n",
        "        if not moves:\n",
        "            return None\n",
        "        if len(moves) == 1:\n",
        "            return moves[0]\n",
        "        return moves[random.randint(0, len(moves) - 1)]\n",
        "\n",
        "    return sorted(root.children, key=lambda c: c.visits)[-1].move"
      ]
    },
    {
      "cell_type": "markdown",
      "metadata": {
        "id": "qrhCWtbnsm_H"
      },
      "source": [
        "## GRAVE"
      ]
    },
    {
      "cell_type": "code",
      "execution_count": 15,
      "metadata": {
        "id": "qHaYi4YYsqpd"
      },
      "outputs": [],
      "source": [
        "class GRAVENode:\n",
        "    def __init__(self, board, parent=None, move=None):\n",
        "        self.board = deepcopy(board)\n",
        "        self.parent = parent\n",
        "        self.move = move\n",
        "        self.children = []\n",
        "        self.wins = 0\n",
        "        self.visits = 0\n",
        "        self.untried_moves = board.legalMoves()\n",
        "        self.key = self._board_key()\n",
        "\n",
        "    def _board_key(self):\n",
        "        return str(self.board)\n",
        "\n",
        "    def select_child_grave(self, amaf_wins, amaf_visits, c=1.41, beta=0.5):\n",
        "        if not self.children:\n",
        "            return None\n",
        "\n",
        "        best_value = -float('inf')\n",
        "        best_child = None\n",
        "\n",
        "        for child in self.children:\n",
        "            if child.visits == 0:\n",
        "                return child\n",
        "\n",
        "            if child.visits > 0 and self.visits > 0:\n",
        "                uct_score = (child.wins / child.visits) + c * math.sqrt(2 * math.log(self.visits) / child.visits)\n",
        "            else:\n",
        "                uct_score = float('inf')\n",
        "\n",
        "            action_key = (child.move.x, child.move.y, child.move.symbol)\n",
        "            state_action_key = (self.key, action_key)\n",
        "\n",
        "            if amaf_visits[state_action_key] > 0:\n",
        "                rave_score = amaf_wins[state_action_key] / amaf_visits[state_action_key]\n",
        "\n",
        "                b = amaf_visits[state_action_key] / (child.visits + amaf_visits[state_action_key] + 4 * beta * beta * child.visits * amaf_visits[state_action_key])\n",
        "\n",
        "                score = (1 - b) * uct_score + b * rave_score\n",
        "            else:\n",
        "                score = uct_score\n",
        "\n",
        "            if score > best_value:\n",
        "                best_value = score\n",
        "                best_child = child\n",
        "\n",
        "        return best_child\n",
        "\n",
        "    def add_child(self, move):\n",
        "        child_board = deepcopy(self.board)\n",
        "        child_board.play(move)\n",
        "        child = GRAVENode(child_board, parent=self, move=move)\n",
        "        self.untried_moves.remove(move)\n",
        "        self.children.append(child)\n",
        "        return child\n",
        "\n",
        "    def update(self, result):\n",
        "        self.visits += 1\n",
        "        self.wins += result\n",
        "\n",
        "    def is_fully_expanded(self):\n",
        "        return len(self.untried_moves) == 0\n",
        "\n",
        "    def is_terminal_node(self):\n",
        "        return self.board.terminal()"
      ]
    },
    {
      "cell_type": "code",
      "execution_count": 16,
      "metadata": {
        "id": "dD58cJhAuIL3"
      },
      "outputs": [],
      "source": [
        "def grave_search(board, iterations=1000, playout_policy=pattern_based_playout):\n",
        "    root = GRAVENode(board)\n",
        "\n",
        "    amaf_wins = defaultdict(float)\n",
        "    amaf_visits = defaultdict(float)\n",
        "\n",
        "    for _ in range(iterations):\n",
        "        node = root\n",
        "        board_state = deepcopy(node.board)\n",
        "        visited_states = []\n",
        "\n",
        "        while node.is_fully_expanded() and not node.is_terminal_node():\n",
        "            selected = node.select_child_grave(amaf_wins, amaf_visits)\n",
        "            if selected is None:\n",
        "                break\n",
        "            node = selected\n",
        "            if node.move:\n",
        "                board_state.play(node.move)\n",
        "                state_key = node.key\n",
        "                action_key = (node.move.x, node.move.y, node.move.symbol)\n",
        "                visited_states.append((state_key, action_key))\n",
        "\n",
        "        if not node.is_terminal_node():\n",
        "            if len(node.untried_moves) == 0:\n",
        "                continue\n",
        "\n",
        "            move = node.untried_moves[0]\n",
        "            if len(node.untried_moves) > 1:\n",
        "                idx = random.randint(0, len(node.untried_moves) - 1)\n",
        "                move = node.untried_moves[idx]\n",
        "\n",
        "            board_state.play(move)\n",
        "            node = node.add_child(move)\n",
        "            state_key = node.key\n",
        "            action_key = (move.x, move.y, move.symbol)\n",
        "            visited_states.append((state_key, action_key))\n",
        "\n",
        "        result = playout_policy(board_state)\n",
        "\n",
        "        current = node\n",
        "        while current is not None:\n",
        "            current.update(result)\n",
        "            current = current.parent\n",
        "\n",
        "        for state_key, action_key in visited_states:\n",
        "            amaf_visits[(state_key, action_key)] += 1\n",
        "            amaf_wins[(state_key, action_key)] += result\n",
        "\n",
        "    if not root.children:\n",
        "        moves = board.legalMoves()\n",
        "        if not moves:\n",
        "            return None\n",
        "        if len(moves) == 1:\n",
        "            return moves[0]\n",
        "        return moves[random.randint(0, len(moves) - 1)]\n",
        "\n",
        "    return sorted(root.children, key=lambda c: c.visits)[-1].move"
      ]
    },
    {
      "cell_type": "markdown",
      "metadata": {
        "id": "OMGdYAVLsq-z"
      },
      "source": [
        "## NRPA"
      ]
    },
    {
      "cell_type": "code",
      "execution_count": 17,
      "metadata": {
        "id": "oggS-85psuav"
      },
      "outputs": [],
      "source": [
        "def nrpa_search(board, level=1, iterations=20):\n",
        "    policy = defaultdict(float)\n",
        "\n",
        "    def choose_move(board, policy):\n",
        "        moves = board.legalMoves()\n",
        "        if not moves:\n",
        "            return None\n",
        "\n",
        "        weights = []\n",
        "        for move in moves:\n",
        "            key = (move.x, move.y, move.symbol)\n",
        "            weights.append(math.exp(policy[key]))\n",
        "\n",
        "        total = sum(weights)\n",
        "        if total == 0:\n",
        "            return moves[random.randint(0, len(moves) - 1)]\n",
        "\n",
        "        r = random.random() * total\n",
        "        cumulative = 0\n",
        "        for i, weight in enumerate(weights):\n",
        "            cumulative += weight\n",
        "            if cumulative > r:\n",
        "                return moves[i]\n",
        "\n",
        "        return moves[-1]\n",
        "\n",
        "    def adapt_policy(policy, sequence, result):\n",
        "        new_policy = defaultdict(float)\n",
        "        for key in policy:\n",
        "            new_policy[key] = policy[key]\n",
        "\n",
        "        alpha = 0.1\n",
        "        for move in sequence:\n",
        "            key = (move.x, move.y, move.symbol)\n",
        "            new_policy[key] += alpha * result\n",
        "\n",
        "        return new_policy\n",
        "\n",
        "    def playout(board, policy):\n",
        "        sequence = []\n",
        "        curr_board = deepcopy(board)\n",
        "\n",
        "        while not curr_board.terminal():\n",
        "            move = choose_move(curr_board, policy)\n",
        "            if move is None:\n",
        "                break\n",
        "            sequence.append(move)\n",
        "            curr_board.play(move)\n",
        "\n",
        "        result = curr_board.score() if curr_board.terminal() else 0\n",
        "        return sequence, result\n",
        "\n",
        "    def nested_search(board, policy, level, n):\n",
        "        if level == 0:\n",
        "            return playout(board, policy)\n",
        "\n",
        "        best_sequence = []\n",
        "        best_score = -float('inf')\n",
        "\n",
        "        for _ in range(n):\n",
        "            sequence, score = nested_search(board, policy, level - 1, n)\n",
        "            if score > best_score:\n",
        "                best_score = score\n",
        "                best_sequence = sequence\n",
        "\n",
        "            policy = adapt_policy(policy, sequence, score)\n",
        "\n",
        "        return best_sequence, best_score\n",
        "\n",
        "    sequence, _ = nested_search(board, policy, level, iterations)\n",
        "\n",
        "    if sequence:\n",
        "        return sequence[0]\n",
        "\n",
        "    moves = board.legalMoves()\n",
        "    if not moves:\n",
        "        return None\n",
        "    return moves[random.randint(0, len(moves) - 1)]"
      ]
    },
    {
      "cell_type": "markdown",
      "metadata": {
        "id": "mJWIDoZIsuux"
      },
      "source": [
        "## NMCS\n",
        "\n"
      ]
    },
    {
      "cell_type": "code",
      "execution_count": 18,
      "metadata": {
        "id": "hbYEfzi1syuX"
      },
      "outputs": [],
      "source": [
        "def nmcs_search(board, level=1):\n",
        "\n",
        "    def random_playout(curr_board):\n",
        "        board_copy = deepcopy(curr_board)\n",
        "\n",
        "        while not board_copy.terminal():\n",
        "            moves = board_copy.legalMoves()\n",
        "            if not moves:\n",
        "                break\n",
        "            move = moves[random.randint(0, len(moves) - 1)]\n",
        "            board_copy.play(move)\n",
        "\n",
        "        return board_copy.score() if board_copy.terminal() else 0\n",
        "\n",
        "    def nmcs(curr_board, level):\n",
        "        if curr_board.terminal():\n",
        "            return None, curr_board.score()\n",
        "\n",
        "        if level == 0:\n",
        "            moves = curr_board.legalMoves()\n",
        "            if not moves:\n",
        "                return None, 0\n",
        "\n",
        "            best_move = moves[random.randint(0, len(moves) - 1)]\n",
        "            next_board = deepcopy(curr_board)\n",
        "            next_board.play(best_move)\n",
        "            return best_move, random_playout(next_board)\n",
        "\n",
        "        best_score = -float('inf')\n",
        "        best_move = None\n",
        "\n",
        "        for move in curr_board.legalMoves():\n",
        "            next_board = deepcopy(curr_board)\n",
        "            next_board.play(move)\n",
        "\n",
        "            _, score = nmcs(next_board, level - 1)\n",
        "\n",
        "            if score > best_score:\n",
        "                best_score = score\n",
        "                best_move = move\n",
        "\n",
        "        return best_move, best_score\n",
        "\n",
        "    best_move, _ = nmcs(deepcopy(board), level)\n",
        "\n",
        "    if best_move:\n",
        "        return best_move\n",
        "\n",
        "    moves = board.legalMoves()\n",
        "    if not moves:\n",
        "        return None\n",
        "    return moves[random.randint(0, len(moves) - 1)]"
      ]
    },
    {
      "cell_type": "markdown",
      "metadata": {
        "id": "fX-8o9BXtAi4"
      },
      "source": [
        "## Testing Framework for Algorithm Comparison"
      ]
    },
    {
      "cell_type": "code",
      "execution_count": 19,
      "metadata": {
        "id": "0mzGVO7NtKEw"
      },
      "outputs": [],
      "source": [
        "def test_algorithm(algo_fn, num_games=20, opponent=\"random\", algo_role=\"Order\"):\n",
        "    wins = 0\n",
        "    avg_time = 0\n",
        "    game_lengths = []\n",
        "\n",
        "    for _ in range(num_games):\n",
        "        game = Board()\n",
        "        moves_count = 0\n",
        "        algo_time = 0\n",
        "\n",
        "        while not game.terminal() and moves_count < 100:\n",
        "            curr_player = game.turn\n",
        "\n",
        "            if (curr_player == 'Order' and algo_role == 'Order') or \\\n",
        "               (curr_player == 'Chaos' and algo_role == 'Chaos'):\n",
        "                start_time = time.time()\n",
        "                move = algo_fn(game)\n",
        "                algo_time += time.time() - start_time\n",
        "\n",
        "                if not isinstance(move, Move):\n",
        "                    legal_moves = game.legalMoves()\n",
        "                    if legal_moves:\n",
        "                        move = legal_moves[random.randint(0, len(legal_moves) - 1)]\n",
        "                    else:\n",
        "                        break\n",
        "            else:\n",
        "                if opponent == \"random\":\n",
        "                    moves = game.legalMoves()\n",
        "                    if moves:\n",
        "                        move = moves[random.randint(0, len(moves) - 1)]\n",
        "                    else:\n",
        "                        break\n",
        "                elif opponent == \"heuristic\":\n",
        "                    board_copy = deepcopy(game)\n",
        "                    winning_move = find_tactical_move(board_copy)\n",
        "                    if winning_move:\n",
        "                        move = winning_move\n",
        "                    else:\n",
        "                        moves = game.legalMoves()\n",
        "                        if moves:\n",
        "                            move = moves[random.randint(0, len(moves) - 1)]\n",
        "                        else:\n",
        "                            break\n",
        "                else:\n",
        "                    opponent_move = opponent(game)\n",
        "                    if not isinstance(opponent_move, Move):\n",
        "                        moves = game.legalMoves()\n",
        "                        if moves:\n",
        "                            move = moves[random.randint(0, len(moves) - 1)]\n",
        "                        else:\n",
        "                            break\n",
        "                    else:\n",
        "                        move = opponent_move\n",
        "\n",
        "            if isinstance(move, Move):\n",
        "                game.play(move)\n",
        "                moves_count += 1\n",
        "            else:\n",
        "                break\n",
        "\n",
        "        if algo_role == 'Order':\n",
        "            if game.win():\n",
        "                wins += 1\n",
        "        else:\n",
        "            if not game.win():\n",
        "                wins += 1\n",
        "\n",
        "        avg_time += algo_time / num_games\n",
        "        game_lengths.append(moves_count)\n",
        "\n",
        "    win_rate = wins / num_games\n",
        "    return {\n",
        "        'win_rate': win_rate,\n",
        "        'avg_time': avg_time,\n",
        "        'avg_length': sum(game_lengths) / len(game_lengths)\n",
        "    }"
      ]
    },
    {
      "cell_type": "code",
      "execution_count": 20,
      "metadata": {
        "id": "PSwtBGqQvUGz"
      },
      "outputs": [],
      "source": [
        "def compare_algorithms(iterations=100):\n",
        "    algorithms = {\n",
        "        'UCT': lambda b: BestMoveUCT(b, iterations=iterations),\n",
        "        'RAVE': lambda b: rave_search(b, iterations=iterations, playout_policy=pattern_based_playout),\n",
        "        'GRAVE': lambda b: grave_search(b, iterations=iterations, playout_policy=pattern_based_playout),\n",
        "        'NRPA': lambda b: nrpa_search(b, level=1, iterations=10),\n",
        "        'NMCS': lambda b: nmcs_search(b, level=1),\n",
        "        'Random': lambda b: b.legalMoves()[random.randint(0, len(b.legalMoves()) - 1)] if b.legalMoves() else None,\n",
        "        'Heuristic': lambda b: find_tactical_move(b) or b.legalMoves()[random.randint(0, len(b.legalMoves()) - 1)] if b.legalMoves() else None\n",
        "    }\n",
        "\n",
        "    order_results = {}\n",
        "    for name, algo in algorithms.items():\n",
        "        print(f\"Testing {name} as Order vs Random Chaos\")\n",
        "        order_results[name] = test_algorithm(algo, algo_role='Order')\n",
        "\n",
        "    chaos_results = {}\n",
        "    for name, algo in algorithms.items():\n",
        "        print(f\"Testing {name} as Chaos vs Random Order\")\n",
        "        chaos_results[name] = test_algorithm(algo, algo_role='Chaos')\n",
        "\n",
        "    plt.figure(figsize=(12, 6))\n",
        "\n",
        "    plt.subplot(1, 2, 1)\n",
        "    names = list(order_results.keys())\n",
        "    win_rates = [result['win_rate'] for result in order_results.values()]\n",
        "    plt.bar(names, win_rates)\n",
        "    plt.title('Win Rates as Order vs Random Chaos')\n",
        "    plt.ylim(0, 1)\n",
        "    plt.ylabel('Win Rate')\n",
        "    plt.xticks(rotation=45)\n",
        "\n",
        "    plt.subplot(1, 2, 2)\n",
        "    names = list(chaos_results.keys())\n",
        "    win_rates = [result['win_rate'] for result in chaos_results.values()]\n",
        "    plt.bar(names, win_rates)\n",
        "    plt.title('Win Rates as Chaos vs Random Order')\n",
        "    plt.ylim(0, 1)\n",
        "    plt.xticks(rotation=45)\n",
        "\n",
        "    plt.tight_layout()\n",
        "    plt.savefig('algorithm_comparison.png')\n",
        "    plt.show()\n",
        "\n",
        "    return order_results, chaos_results"
      ]
    },
    {
      "cell_type": "code",
      "execution_count": 21,
      "metadata": {
        "colab": {
          "base_uri": "https://localhost:8080/",
          "height": 1000
        },
        "id": "8vaGxBV5vx4r",
        "outputId": "cfd63b56-5120-4d33-8294-70b959bb490f"
      },
      "outputs": [
        {
          "name": "stdout",
          "output_type": "stream",
          "text": [
            "Testing UCT as Order vs Random Chaos\n",
            "Testing RAVE as Order vs Random Chaos\n",
            "Testing GRAVE as Order vs Random Chaos\n",
            "Testing NRPA as Order vs Random Chaos\n",
            "Testing NMCS as Order vs Random Chaos\n",
            "Testing Random as Order vs Random Chaos\n",
            "Testing Heuristic as Order vs Random Chaos\n",
            "Testing UCT as Chaos vs Random Order\n",
            "Testing RAVE as Chaos vs Random Order\n",
            "Testing GRAVE as Chaos vs Random Order\n",
            "Testing NRPA as Chaos vs Random Order\n",
            "Testing NMCS as Chaos vs Random Order\n",
            "Testing Random as Chaos vs Random Order\n",
            "Testing Heuristic as Chaos vs Random Order\n"
          ]
        },
        {
          "data": {
            "image/png": "[encoded data removed]",
            "text/plain": [
              "<Figure size 1200x600 with 2 Axes>"
            ]
          },
          "metadata": {},
          "output_type": "display_data"
        },
        {
          "data": {
            "text/plain": [
              "({'UCT': {'win_rate': 0.85,\n",
              "   'avg_time': 7.032917499542236,\n",
              "   'avg_length': 28.05},\n",
              "  'RAVE': {'win_rate': 0.95,\n",
              "   'avg_time': 6.877315449714661,\n",
              "   'avg_length': 29.55},\n",
              "  'GRAVE': {'win_rate': 1.0,\n",
              "   'avg_time': 8.281036412715913,\n",
              "   'avg_length': 28.05},\n",
              "  'NRPA': {'win_rate': 0.85,\n",
              "   'avg_time': 0.9616155982017518,\n",
              "   'avg_length': 30.15},\n",
              "  'NMCS': {'win_rate': 1.0, 'avg_time': 3.32190067768097, 'avg_length': 15.7},\n",
              "  'Random': {'win_rate': 0.95,\n",
              "   'avg_time': 0.003992331027984619,\n",
              "   'avg_length': 28.8},\n",
              "  'Heuristic': {'win_rate': 1.0,\n",
              "   'avg_time': 0.08921791315078735,\n",
              "   'avg_length': 19.3}},\n",
              " {'UCT': {'win_rate': 0.2, 'avg_time': 7.93676859140396, 'avg_length': 29.3},\n",
              "  'RAVE': {'win_rate': 0.0, 'avg_time': 7.336597752571105, 'avg_length': 28.6},\n",
              "  'GRAVE': {'win_rate': 0.05,\n",
              "   'avg_time': 8.01761680841446,\n",
              "   'avg_length': 29.75},\n",
              "  'NRPA': {'win_rate': 0.0,\n",
              "   'avg_time': 0.832849085330963,\n",
              "   'avg_length': 28.75},\n",
              "  'NMCS': {'win_rate': 0.0,\n",
              "   'avg_time': 2.395084071159363,\n",
              "   'avg_length': 14.15},\n",
              "  'Random': {'win_rate': 0.25,\n",
              "   'avg_time': 0.0033534765243530273,\n",
              "   'avg_length': 30.7},\n",
              "  'Heuristic': {'win_rate': 0.15,\n",
              "   'avg_time': 0.08348627090454101,\n",
              "   'avg_length': 24.35}})"
            ]
          },
          "execution_count": 21,
          "metadata": {},
          "output_type": "execute_result"
        }
      ],
      "source": [
        "compare_algorithms()"
      ]
    }
  ],
  "metadata": {
    "colab": {
      "collapsed_sections": [
        "tTgRim9GevjE"
      ],
      "provenance": []
    },
    "kernelspec": {
      "display_name": "MC-env",
      "language": "python",
      "name": "python3"
    },
    "language_info": {
      "codemirror_mode": {
        "name": "ipython",
        "version": 3
      },
      "file_extension": ".py",
      "mimetype": "text/x-python",
      "name": "python",
      "nbconvert_exporter": "python",
      "pygments_lexer": "ipython3",
      "version": "3.11.3"
    }
  },
  "nbformat": 4,
  "nbformat_minor": 0
}
