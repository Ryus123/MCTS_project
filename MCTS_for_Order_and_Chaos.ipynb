{
 "cells": [
  {
   "cell_type": "markdown",
   "metadata": {},
   "source": [
    "# MCS Algorithms for Order and Chaos Game"
   ]
  },
  {
   "cell_type": "markdown",
   "metadata": {},
   "source": [
    "### Useful Links\n",
    "- [Order and Chaos - Wikipedia](https://en.wikipedia.org/wiki/Order_and_Chaos)\n",
    "- [Order and Chaos - Game simulator](https://ludii.games/details.php?keyword=Order%20and%20Chaos)"
   ]
  },
  {
   "cell_type": "markdown",
   "metadata": {},
   "source": [
    "**Abstract :** For this project we interested about Order and Chaos game who is very challenging because of is rules. Like in tic-tac-toe players allowed between to state O or X. His particularity come from the fact that both players allowed to play O and X, so the main objective for player 1 and player 2 are different. The first want to make a winning line of 5 successivly same symbole and the other want to make a draw. For this game we tried differente Monte carlo tree search algorithms :\n",
    "- UCB ?? for ..\n",
    "- RAVE ?? because ..\n",
    "- ETC.. TO DO"
   ]
  },
  {
   "cell_type": "markdown",
   "metadata": {},
   "source": [
    "## Import"
   ]
  },
  {
   "cell_type": "code",
   "execution_count": 11,
   "metadata": {},
   "outputs": [],
   "source": [
    "import numpy as np\n",
    "import numpy.random as random\n",
    "from copy import deepcopy"
   ]
  },
  {
   "cell_type": "markdown",
   "metadata": {},
   "source": [
    "## Constant inputs"
   ]
  },
  {
   "cell_type": "code",
   "execution_count": 3,
   "metadata": {},
   "outputs": [],
   "source": [
    "Dx = 6\n",
    "Dy = 6\n",
    "Empty = '-'"
   ]
  },
  {
   "cell_type": "markdown",
   "metadata": {},
   "source": [
    "## Define the Game"
   ]
  },
  {
   "cell_type": "markdown",
   "metadata": {},
   "source": [
    "### Move class"
   ]
  },
  {
   "cell_type": "code",
   "execution_count": 4,
   "metadata": {},
   "outputs": [],
   "source": [
    "class Move(object):\n",
    "    def __init__(self, x, y, symbol):\n",
    "        self.x = x\n",
    "        self.y = y\n",
    "        self.symbol = symbol\n",
    "        \n",
    "    def valid (self, board):\n",
    "        # Move in the board\n",
    "        if self.x >= Dx or self.y >= Dy or self.x < 0 or self.y <0:\n",
    "            return False\n",
    "        # Move in a free space\n",
    "        if board.board[self.x][self.y] != Empty:\n",
    "            return False\n",
    "        \n",
    "        return True"
   ]
  },
  {
   "cell_type": "markdown",
   "metadata": {},
   "source": [
    "### Class Board"
   ]
  },
  {
   "cell_type": "code",
   "execution_count": 12,
   "metadata": {},
   "outputs": [],
   "source": [
    "class Board(object):\n",
    "    def __init__(self):\n",
    "        #self.history = {'Order' : [], 'Chaos' : []}\n",
    "        self.turn = 'Order' #Order always start the game\n",
    "        self.board = [[Empty for _ in range(Dx)] for _ in range(Dy)]\n",
    "        self.board = np.array(self.board)\n",
    "        self.nb_moves = 0\n",
    "        \n",
    "    def legalMoves(self):\n",
    "        moves = []\n",
    "        for i in range (0, Dx):\n",
    "            for j in range (0, Dy):\n",
    "                for symb in ['X', 'O']:\n",
    "                    m = Move (i, j, symb)\n",
    "                    if m.valid (self):\n",
    "                        moves.append (m)\n",
    "                    \n",
    "        return moves\n",
    "    \n",
    "    def verif_array(self, array):\n",
    "        if (np.char.count(array, '-').sum() <= 1) and (len(np.unique(array[:5]))==1 or len(np.unique(array[1:]))==1):\n",
    "            return True\n",
    "        else:\n",
    "            return False\n",
    "        \n",
    "    def win(self):\n",
    "        # Horizontal win\n",
    "        for row in self.board:\n",
    "            if self.verif_array(row) == True:\n",
    "                return True\n",
    "            \n",
    "        # Vertical win\n",
    "        for col in self.board.T:\n",
    "            if self.verif_array(col) == True:\n",
    "                return True\n",
    "            \n",
    "        # Diagonal win\n",
    "        for i in [-1, 0, 1]:\n",
    "            diag = np.diagonal(self.board, offset=i)\n",
    "            if (len(diag)==6) and (self.verif_array(diag) == True) or (np.char.count(diag, '-').sum() < 1) and (len(np.unique(diag))==1):\n",
    "                return True\n",
    "            \n",
    "            diag_opposite = np.flipud(self.board).diagonal(offset=i)\n",
    "            if (len(diag_opposite)==6) and (self.verif_array(diag_opposite) == True) or (np.char.count(diag_opposite, '-').sum() < 1) and (len(np.unique(diag_opposite))==1):\n",
    "                return True\n",
    "            \n",
    "        return False\n",
    "        \n",
    "        \n",
    "    def draw(self):\n",
    "        if self.nb_moves < Dx*Dy:\n",
    "            return False\n",
    "        if self.nb_moves >= Dx*Dy and not self.win():\n",
    "            return True\n",
    "        return False\n",
    "    \n",
    "    def score(self):\n",
    "        if self.draw():\n",
    "            return 0\n",
    "        if self.win():\n",
    "            return 1\n",
    "    \n",
    "    def terminal(self):\n",
    "        if not self.win() and not self.draw():\n",
    "            return False\n",
    "        return True\n",
    "    \n",
    "    def __repr__(self):\n",
    "        return \"\\n\".join(\" \".join(row) for row in self.board)\n",
    "        \n",
    "    def play (self, move:Move):\n",
    "        change_player = {'Order' : 'Chaos', 'Chaos' : 'Order'}\n",
    "        if move.valid(self):\n",
    "            self.board[move.x][move.y] = move.symbol\n",
    "            self.turn = change_player[self.turn]\n",
    "            self.nb_moves += 1\n",
    "\n",
    "    def playout (self):\n",
    "        while (True):\n",
    "            moves = self.legalMoves()\n",
    "            if self.terminal():\n",
    "                return self.score()\n",
    "            n = random.randint(0, len (moves) - 1)\n",
    "            self.play(moves [n])"
   ]
  },
  {
   "cell_type": "markdown",
   "metadata": {},
   "source": [
    "## Test the game"
   ]
  },
  {
   "cell_type": "markdown",
   "metadata": {},
   "source": [
    "### Manually"
   ]
  },
  {
   "cell_type": "code",
   "execution_count": 15,
   "metadata": {},
   "outputs": [
    {
     "name": "stdout",
     "output_type": "stream",
     "text": [
      "X - - - - -\n",
      "- X - - - -\n",
      "- - O - - -\n",
      "- - - X - -\n",
      "- - - - X -\n",
      "- - - - - -\n",
      "Win: False\n",
      "Draw: False\n",
      "End: False\n",
      "X - - - - -\n",
      "- X - - - -\n",
      "O O O O O -\n",
      "- - - X - -\n",
      "- - - - X -\n",
      "- - - - - -\n",
      "Win: True\n",
      "Draw: False\n",
      "End: True\n"
     ]
    }
   ],
   "source": [
    "game = Board()\n",
    "game.play(Move(0, 0, 'X'))\n",
    "game.play(Move(1, 1, 'X'))\n",
    "game.play(Move(2, 2, 'O'))\n",
    "game.play(Move(3, 3, 'X'))\n",
    "game.play(Move(4, 4, 'X'))\n",
    "print(game)\n",
    "print(\"Win:\", game.win())\n",
    "print(\"Draw:\", game.draw())\n",
    "print(\"End:\", game.terminal())\n",
    "game.play(Move(2, 0, 'O'))\n",
    "game.play(Move(2, 1, 'O'))\n",
    "game.play(Move(2, 3, 'O'))\n",
    "game.play(Move(2, 4, 'O'))\n",
    "print(game)\n",
    "print(\"Win:\", game.win())\n",
    "print(\"Draw:\", game.draw())\n",
    "print(\"End:\", game.terminal())"
   ]
  },
  {
   "cell_type": "markdown",
   "metadata": {},
   "source": [
    "### Playout"
   ]
  },
  {
   "cell_type": "code",
   "execution_count": 23,
   "metadata": {},
   "outputs": [
    {
     "name": "stdout",
     "output_type": "stream",
     "text": [
      "O O O O X X\n",
      "X O X O - -\n",
      "X O O O X O\n",
      "O O X X O O\n",
      "X X X X O X\n",
      "- X X X X X\n",
      "Win: True\n",
      "Draw: False\n",
      "End: True\n"
     ]
    }
   ],
   "source": [
    "game = Board()\n",
    "game.playout()\n",
    "print(game)\n",
    "print(\"Win:\", game.win())\n",
    "print(\"Draw:\", game.draw())\n",
    "print(\"End:\", game.terminal())"
   ]
  },
  {
   "cell_type": "markdown",
   "metadata": {},
   "source": [
    "### Win rate after 1000 playout"
   ]
  },
  {
   "cell_type": "code",
   "execution_count": 27,
   "metadata": {},
   "outputs": [
    {
     "name": "stdout",
     "output_type": "stream",
     "text": [
      "Win rate after 1000 playout: 0.8100\n"
     ]
    }
   ],
   "source": [
    "wins = []\n",
    "for _ in range(1000):\n",
    "    game = Board()\n",
    "    score = game.playout()\n",
    "    wins.append(score)\n",
    "    \n",
    "print(f\"Win rate after 1000 playout: {sum(wins)/1000:.4f}\")"
   ]
  },
  {
   "cell_type": "markdown",
   "metadata": {},
   "source": [
    "# Define algorithms"
   ]
  },
  {
   "cell_type": "markdown",
   "metadata": {},
   "source": [
    "## UCB"
   ]
  },
  {
   "cell_type": "code",
   "execution_count": null,
   "metadata": {},
   "outputs": [],
   "source": []
  }
 ],
 "metadata": {
  "kernelspec": {
   "display_name": "MC-env",
   "language": "python",
   "name": "python3"
  },
  "language_info": {
   "codemirror_mode": {
    "name": "ipython",
    "version": 3
   },
   "file_extension": ".py",
   "mimetype": "text/x-python",
   "name": "python",
   "nbconvert_exporter": "python",
   "pygments_lexer": "ipython3",
   "version": "3.11.3"
  }
 },
 "nbformat": 4,
 "nbformat_minor": 2
}
